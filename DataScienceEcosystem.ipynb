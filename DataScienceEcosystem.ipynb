{
 "cells": [
  {
   "cell_type": "markdown",
   "id": "eaa19f30",
   "metadata": {},
   "source": [
    "# Data Science Tools and Ecosystem"
   ]
  },
  {
   "cell_type": "markdown",
   "id": "26ac4be0",
   "metadata": {},
   "source": [
    "In this notebook, Data Science Tools and Ecosystem are summarized."
   ]
  },
  {
   "cell_type": "markdown",
   "id": "ed7af2c8",
   "metadata": {},
   "source": [
    "Some of the popular languages that Data Scientists use are:\n",
    "\n",
    "    1-Python\n",
    "    2-SQL\n",
    "    3-C++\n",
    "    4-Java\n",
    "    5-R"
   ]
  },
  {
   "cell_type": "markdown",
   "id": "b89f9988",
   "metadata": {},
   "source": [
    "Some of the commonly used libraries used by Data Scientists include:\n",
    "\n",
    "    1-Numpy\n",
    "    2-TensorFlow\n",
    "    3-Pandas\n",
    "    4-Keras\n",
    "    5-Scipy"
   ]
  },
  {
   "cell_type": "markdown",
   "id": "c9e16a1d",
   "metadata": {},
   "source": [
    "|Data Science Tools|\n",
    "|---|\n",
    "|JupyterLab|\n",
    "|Google Colab|\n",
    "|RStudio|"
   ]
  },
  {
   "cell_type": "markdown",
   "id": "2493f0b3",
   "metadata": {},
   "source": [
    "### Below are a few examples of evaluating arithmetic expressions in Python"
   ]
  },
  {
   "cell_type": "code",
   "execution_count": 2,
   "id": "d0f76f45",
   "metadata": {},
   "outputs": [
    {
     "data": {
      "text/plain": [
       "17"
      ]
     },
     "execution_count": 2,
     "metadata": {},
     "output_type": "execute_result"
    }
   ],
   "source": [
    "#This a simple arithmetic expression to mutiply then add integers.\n",
    "(3*4)+5"
   ]
  },
  {
   "cell_type": "code",
   "execution_count": 3,
   "id": "34bc1946",
   "metadata": {},
   "outputs": [
    {
     "data": {
      "text/plain": [
       "3.3333333333333335"
      ]
     },
     "execution_count": 3,
     "metadata": {},
     "output_type": "execute_result"
    }
   ],
   "source": [
    "# This will convert 200 minutes to hours by diving by 60.\n",
    "minutes = 200\n",
    "hours = minutes / 60\n",
    "hours"
   ]
  },
  {
   "cell_type": "markdown",
   "id": "7336b7bd",
   "metadata": {},
   "source": [
    "__Objectives:__\n",
    "* List popular languages for Data Science.\n",
    "* Identify commonly used libraries in Data Science.\n",
    "* Recognize development environment tools used in Data Science.\n",
    "* Understand the basic arithmetic operations in Python.\n",
    "* Explore the process of evaluating and converting units in Python"
   ]
  },
  {
   "cell_type": "markdown",
   "id": "ff1bc39f",
   "metadata": {},
   "source": [
    "## Author\n",
    "Boran Boysan"
   ]
  }
 ],
 "metadata": {
  "kernelspec": {
   "display_name": "Python 3 (ipykernel)",
   "language": "python",
   "name": "python3"
  },
  "language_info": {
   "codemirror_mode": {
    "name": "ipython",
    "version": 3
   },
   "file_extension": ".py",
   "mimetype": "text/x-python",
   "name": "python",
   "nbconvert_exporter": "python",
   "pygments_lexer": "ipython3",
   "version": "3.9.7"
  }
 },
 "nbformat": 4,
 "nbformat_minor": 5
}
